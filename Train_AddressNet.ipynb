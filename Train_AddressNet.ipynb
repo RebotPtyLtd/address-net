{
  "cells": [
    {
      "cell_type": "markdown",
      "metadata": {},
      "source": "# AddressNet Training and Prediction\n\nThis notebook demonstrates how to retrain the AddressNet model and run the HTTP endpoint using the scripts in this repository."
    },
    {
      "cell_type": "markdown",
      "metadata": {},
      "source": "## 1. Generate TFRecord Data\nRun `generate_tf_records.py` to convert the GNAF `address_view` CSV into TFRecords."
    },
    {
      "cell_type": "code",
      "metadata": {},
      "source": "!python generate_tf_records.py path/to/address_view.csv addresses.tfrecord --gzipped_input",
      "execution_count": null,
      "outputs": []
    },
    {
      "cell_type": "markdown",
      "metadata": {},
      "source": "## 2. Create a Training Input Function\nUse the `dataset` helper to load the TFRecord file."
    },
    {
      "cell_type": "code",
      "metadata": {},
      "source": "from addressnet.dataset import dataset\ntrain_input_fn = dataset(['addresses.tfrecord'])",
      "execution_count": null,
      "outputs": []
    },
    {
      "cell_type": "markdown",
      "metadata": {},
      "source": "## 3. Instantiate the Estimator\nCreate a TensorFlow estimator using `model_fn` from `addressnet.model`."
    },
    {
      "cell_type": "code",
      "metadata": {},
      "source": "import tensorflow.compat.v1 as tf\nimport tensorflow_estimator as tf_estimator\nfrom addressnet.model import model_fn\n\ntf.disable_v2_behavior()\nestimator = tf_estimator.estimator.Estimator(model_fn=model_fn, model_dir='model_output')",
      "execution_count": null,
      "outputs": []
    },
    {
      "cell_type": "markdown",
      "metadata": {},
      "source": "## 4. Train the Model"
    },
    {
      "cell_type": "code",
      "metadata": {},
      "source": "estimator.train(train_input_fn, steps=2000)  # adjust steps as needed",
      "execution_count": null,
      "outputs": []
    },
    {
      "cell_type": "markdown",
      "metadata": {},
      "source": "## 5. Use the Retrained Model"
    },
    {
      "cell_type": "code",
      "metadata": {},
      "source": "from addressnet.predict import predict_one\n\npredict_one('123 Elizabeth St Sydney NSW', model_dir='model_output')",
      "execution_count": null,
      "outputs": []
    },
    {
      "cell_type": "markdown",
      "metadata": {},
      "source": "## 6. Run the HTTP Endpoint\nStart the server and send a request."
    },
    {
      "cell_type": "code",
      "metadata": {},
      "source": "!python tests/http_endpoint.py",
      "execution_count": null,
      "outputs": []
    },
    {
      "cell_type": "code",
      "metadata": {},
      "source": "!curl 'http://localhost:8000/predict?address=123%20Elizabeth%20St%20Sydney%20NSW'",
      "execution_count": null,
      "outputs": []
    },
    {
      "cell_type": "markdown",
      "metadata": {},
      "source": "Shut down the server with `Ctrl+C` when finished."
    }
  ],
  "metadata": {
    "kernelspec": {
      "display_name": "Python 3",
      "language": "python",
      "name": "python3"
    },
    "language_info": {
      "name": "python",
      "version": "3.11"
    }
  },
  "nbformat": 4,
  "nbformat_minor": 5
}
